import pandas as pd
import pandas_ta as ta
import yfinance as yf
import matplotlib as plt

data = yf.download(tickers="^GSPC", start="2012-03-11", end = "2023-08-09")
data

# Adding indicators
# Relative strength index: charts the current strength or weakness of the stock based on the closing prices of recent trading period.
data['RSI'] = ta.rsi(data.Close, length=15)

data['EMAF'] = ta.ema(data.Close, length=20)
data['EMAM'] = ta.ema(data.Close, length=100)
data['EMAS'] = ta.ema(data.Close, length=150)

data['Target'] = data['Adj Close']-data.Open
data['Target'] = data['Target'].shift(-1)

data['TargetClass'] = [1 if data.Target[i]>0 else 0 for i in range(len(data))]
data['TargetNextClose'] = data['Adj Close'].shift(-1)

data.dropna(inplace=True)
