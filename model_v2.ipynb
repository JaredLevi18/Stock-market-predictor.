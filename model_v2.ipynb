{
  "nbformat": 4,
  "nbformat_minor": 0,
  "metadata": {
    "colab": {
      "provenance": [],
      "authorship_tag": "ABX9TyNTyMWxERLXuSyOVf+vdayw",
      "include_colab_link": true
    },
    "kernelspec": {
      "name": "python3",
      "display_name": "Python 3"
    },
    "language_info": {
      "name": "python"
    }
  },
  "cells": [
    {
      "cell_type": "markdown",
      "metadata": {
        "id": "view-in-github",
        "colab_type": "text"
      },
      "source": [
        "<a href=\"https://colab.research.google.com/github/JaredLevi18/Stock-market-predictor./blob/main/model_v2.ipynb\" target=\"_parent\"><img src=\"https://colab.research.google.com/assets/colab-badge.svg\" alt=\"Open In Colab\"/></a>"
      ]
    },
    {
      "cell_type": "code",
      "execution_count": null,
      "metadata": {
        "id": "pRVYWcPqLkjk"
      },
      "outputs": [],
      "source": [
        "! pip install alpha_vantage -q  # Python module to get stock data/cryptocurrencies from the Alpha Vantage API"
      ]
    },
    {
      "cell_type": "code",
      "source": [
        "import numpy as np\n",
        "import torch\n",
        "import torch.nn as nn\n",
        "import torch.nn.functional as F\n",
        "import torch.optim as optim\n",
        "from torch.utils.data import Dataset\n",
        "from torch.utils.data import DataLoader\n",
        "import matplotlib.pyplot as plt\n",
        "from matplotlib.pyplot import figure\n",
        "from alpha_vantage.timeseries import TimeSeries"
      ],
      "metadata": {
        "id": "-kGC_AqML2R9"
      },
      "execution_count": null,
      "outputs": []
    },
    {
      "cell_type": "code",
      "source": [
        "config = {\n",
        "    \"alpha_vantage\":{\n",
        "        \"key\": \"the api from alpha vintage\",\n",
        "        \"symbol\": \"IBM\",\n",
        "        \"outputsize\": \"full\",\n",
        "        \"key_adjustedclose\": \"5. adjusted close\",\n",
        "    },\n",
        "    \"data\": {\n",
        "        \"window_size\": 20,\n",
        "        \"train_split_size\": 0.80,\n",
        "    },\n",
        "    \"plots\": {\n",
        "        \"show_plots\": True,\n",
        "        \"xticks_interval\": 90,\n",
        "        \"color_actual\": \"#001f3f\",\n",
        "        \"color_train\": \"#3D9970\",\n",
        "        \"color_val\": \"#0074D9\",\n",
        "        \"color_pred_train\": \"#3D9970\",\n",
        "        \"color_pred_val\": \"#0074D9\",\n",
        "        \"color_pred_test\": \"#FF4136\",\n",
        "    },\n",
        "    \"model\":{\n",
        "        \"input_size\": 1, # only 1 because we're using the closing price\n",
        "        \"num_lstm_layers\": 2,\n",
        "        \"lstm_size\": 32,\n",
        "        \"dropout\": 0.2,\n",
        "    },\n",
        "    \"training\": {\n",
        "        \"device\": \"cuda\",\n",
        "        \"batch_size\": 64,\n",
        "        \"num_epochs\": 100,\n",
        "        \"learning_rate\": 0.01,\n",
        "        \"scheduler_step_size\": 40,\n",
        "    },\n",
        "}"
      ],
      "metadata": {
        "id": "m1AvRtdBNkWc"
      },
      "execution_count": null,
      "outputs": []
    },
    {
      "cell_type": "code",
      "source": [
        "\n",
        "def download_data(config, plot=False):\n",
        "  ts = TimeSeries(key=config[\"alpha_vantage\"][\"key\"])\n",
        "  data, meta_data = ts.get_daily_adjusted(config[\"alpha_vantage\"][\"symbol\"], outputsize=config[\"alpha_vantage\"][\"outputsize\"])\n",
        "\n",
        "  data_date = [date for data in data.keys()]\n",
        "  data_date.reverse()\n",
        "\n",
        "  data_close_price = [float(data[date][config[\"alpha_vantage\"][\"key_adjusted_close\"]]) for date in data.keys()]\n",
        "  data_close_price.reverse()\n",
        "  data_close_price = np.array(data_close_price)\n",
        "\n",
        "  num_data_points = len(data_date)\n",
        "  display_date_range = \"from\" + data.date[0] + \"to\" + data_date[num_data_points - 1]\n",
        "  print(\"Number of data points\", num_data_points, display_date_range)\n",
        "\n",
        "  if plot:\n",
        "    fig = figure(figsize=(25,5), dpi=180)\n",
        "    fig.patch.set_facecolor((1.0, 1.0, 1.0))\n",
        "    plt.plot(data_date, data_close_price, color=config[\"plots\"][\"color_actual\"])\n",
        "    xticks = [data_date[i] if ((%iconfig[\"plots\"][\"xticks_interval\"] == 0 and (num_data_points-i) > config[\"plots\"][\"xticks_interval\"]) or i == num_data_points-1) else None for i in range(num_data_points)]\n",
        "    x = np.arange(0,len(xticks))\n",
        "    plt.xticks(x, xtricks, rotation='vertical')\n",
        "    plt.title(\"Daily close price for\" + config[\"alpha_vantage\"][\"symbol\"] + \", \" + display_date_range)\n",
        "    plt.grid(b=None, which=\"major\", axis=\"y\", linestyle=\"--\")\n",
        "    plt.show()\n",
        "\n",
        "  return data_date, data_close_price, num_data_points, display_date_range\n",
        "\n",
        "data_date, data_close_price, num_data_points, display_date_range = download_data(config, plot=config[\"plots\"][\"show_plots\"])"
      ],
      "metadata": {
        "id": "ZSDLfh6J_MzD"
      },
      "execution_count": null,
      "outputs": []
    },
    {
      "cell_type": "code",
      "source": [
        "# normalizing raw financial data\n",
        "class Normalizer():\n",
        "  def __init__(self):\n",
        "    self.mu = None\n",
        "    self.sd = None\n",
        "\n",
        "  def fit_transform(self, x):\n",
        "    self.mu = np.mean(x, axis=(0), keepdims=True)\n",
        "    self.sd = np.std(x, axis=(0), keepdims=True)\n",
        "    normalized_x = (x - self.mu) / self.sd\n",
        "    return normilized_x\n",
        "\n",
        "  def inverse_transform(self, x):\n",
        "    return (x * self.sd) + self.mu\n",
        "\n",
        "# normilze\n",
        "scaler = Normalizer()\n",
        "normalized_data_close_price = scaler.fit_transform(data_close_price)"
      ],
      "metadata": {
        "id": "iDo5YJqLcI1n"
      },
      "execution_count": null,
      "outputs": []
    },
    {
      "cell_type": "code",
      "source": [
        "# preparing data: generating val and traing datasets\n",
        "def prepare_x_y(x, window_size):"
      ],
      "metadata": {
        "id": "0NMCJPkpgXIb"
      },
      "execution_count": null,
      "outputs": []
    }
  ]
}