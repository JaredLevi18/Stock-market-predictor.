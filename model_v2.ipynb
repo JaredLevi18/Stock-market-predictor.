{
  "nbformat": 4,
  "nbformat_minor": 0,
  "metadata": {
    "colab": {
      "provenance": [],
      "authorship_tag": "ABX9TyPnN8fLMr3JFqSGgJky3WFN",
      "include_colab_link": true
    },
    "kernelspec": {
      "name": "python3",
      "display_name": "Python 3"
    },
    "language_info": {
      "name": "python"
    }
  },
  "cells": [
    {
      "cell_type": "markdown",
      "metadata": {
        "id": "view-in-github",
        "colab_type": "text"
      },
      "source": [
        "<a href=\"https://colab.research.google.com/github/JaredLevi18/Stock-market-predictor./blob/main/model_v2.ipynb\" target=\"_parent\"><img src=\"https://colab.research.google.com/assets/colab-badge.svg\" alt=\"Open In Colab\"/></a>"
      ]
    },
    {
      "cell_type": "code",
      "execution_count": null,
      "metadata": {
        "id": "pRVYWcPqLkjk"
      },
      "outputs": [],
      "source": [
        "! pip install alpha_vantage -q  # Python module to get stock data/cryptocurrencies from the Alpha Vantage API"
      ]
    },
    {
      "cell_type": "code",
      "source": [
        "import numpy as np\n",
        "import torch\n",
        "import torch.nn as nn\n",
        "import torch.nn.functional as F\n",
        "import torch.optim as optim\n",
        "from torch.utils.data import Dataset\n",
        "from torch.utils.data import DataLoader\n",
        "import matplotlib.pyplot as plt\n",
        "from matplotlib.pyplot import figure\n",
        "from alpha_vantage.timeseries import TimeSeries"
      ],
      "metadata": {
        "id": "-kGC_AqML2R9"
      },
      "execution_count": null,
      "outputs": []
    },
    {
      "cell_type": "code",
      "source": [
        "config = {\n",
        "    \"alpha_vantage\":{\n",
        "        \"key\": \"the api from alpha vintage\",\n",
        "        \"symbol\": \"IBM\",\n",
        "        \"outputsize\": \"full\",\n",
        "        \"key_adjustedclose\": \"5. adjusted close\",\n",
        "    },\n",
        "    \"data\": {\n",
        "        \"window_size\": 20,\n",
        "        \"train_split_size\": 0.80,\n",
        "    },\n",
        "    \"plots\": {\n",
        "        \"show_plots\": True,\n",
        "        \"xticks_interval\": 90,\n",
        "        \"color_actual\": \"#001f3f\",\n",
        "        \"color_train\": \"#3D9970\",\n",
        "        \"color_val\": \"#0074D9\",\n",
        "        \"color_pred_train\": \"#3D9970\",\n",
        "        \"color_pred_val\": \"#0074D9\",\n",
        "        \"color_pred_test\": \"#FF4136\",\n",
        "    },\n",
        "    \"model\":{\n",
        "        \"input_size\": 1, # only 1 because we're using the closing price\n",
        "        \"num_lstm_layers\": 2,\n",
        "        \"lstm_size\": 32,\n",
        "        \"dropout\": 0.2,\n",
        "    },\n",
        "    \"training\": {\n",
        "        \"device\": \"cuda\",\n",
        "        \"batch_size\": 64,\n",
        "        \"num_epochs\": 100,\n",
        "        \"learning_rate\": 0.01,\n",
        "        \"scheduler_step_size\": 40,\n",
        "    },\n",
        "}"
      ],
      "metadata": {
        "id": "m1AvRtdBNkWc"
      },
      "execution_count": null,
      "outputs": []
    },
    {
      "cell_type": "code",
      "source": [
        "\n",
        "def download_data(config, plot=False):\n",
        "  ts = TimeSeries(key=config[\"alpha_vantage\"][\"key\"])\n",
        "  data, meta_data = ts.get_daily_adjusted(config[\"alpha_vantage\"][\"symbol\"], outputsize=config[\"alpha_vantage\"][\"outputsize\"])\n",
        "\n",
        "  data_date = [date for data in data.keys()]\n",
        "  data_date.reverse()\n",
        "\n",
        "  data_close_price = [float(data[date][config[\"alpha_vantage\"][\"key_adjusted_close\"]]) for date in data.keys()]\n",
        "  data_close_price.reverse()\n",
        "  data_close_price = np.array(data_close_price)\n",
        "\n",
        "  num_data_points = len(data_date)\n",
        "  display_date_range = \"from\" + data.date[0] + \"to\" + data_date[num_data_points - 1]\n",
        "  print(\"Number of data points\", num_data_points, display_date_range)\n",
        "\n",
        "  if plot:\n",
        "    fig = figure(figsize=(25,5), dpi=180)\n",
        "    fig.patch.set_facecolor((1.0, 1.0, 1.0))\n",
        "    plt.plot(data_date, data_close_price, color=config[\"plots\"][\"color_actual\"])\n",
        "    xticks = [data_date[i] if ((%iconfig[\"plots\"][\"xticks_interval\"] == 0 and (num_data_points-i) > config[\"plots\"][\"xticks_interval\"]) or i == num_data_points-1) else None for i in range(num_data_points)]\n",
        "    x = np.arange(0,len(xticks))\n",
        "    plt.xticks(x, xtricks, rotation='vertical')\n",
        "    plt.title(\"Daily close price for\" + config[\"alpha_vantage\"][\"symbol\"] + \", \" + display_date_range)\n",
        "    plt.grid(b=None, which=\"major\", axis=\"y\", linestyle=\"--\")\n",
        "    plt.show()\n",
        "\n",
        "  return data_date, data_close_price, num_data_points, display_date_range\n",
        "\n",
        "data_date, data_close_price, num_data_points, display_date_range = download_data(config, plot=config[\"plots\"][\"show_plots\"])"
      ],
      "metadata": {
        "id": "ZSDLfh6J_MzD"
      },
      "execution_count": null,
      "outputs": []
    },
    {
      "cell_type": "code",
      "source": [
        "# normalizing raw financial data\n",
        "class Normalizer():\n",
        "  def __init__(self):\n",
        "    self.mu = None\n",
        "    self.sd = None\n",
        "\n",
        "  def fit_transform(self, x):\n",
        "    self.mu = np.mean(x, axis=(0), keepdims=True)\n",
        "    self.sd = np.std(x, axis=(0), keepdims=True)\n",
        "    normalized_x = (x - self.mu) / self.sd\n",
        "    return normilized_x\n",
        "\n",
        "  def inverse_transform(self, x):\n",
        "    return (x * self.sd) + self.mu\n",
        "\n",
        "# normilze\n",
        "scaler = Normalizer()\n",
        "normalized_data_close_price = scaler.fit_transform(data_close_price)"
      ],
      "metadata": {
        "id": "iDo5YJqLcI1n"
      },
      "execution_count": null,
      "outputs": []
    },
    {
      "cell_type": "code",
      "source": [
        "# preparing data: generating val and traing datasets\n",
        "def prepare_x(x, window_size):\n",
        "  # perform windowing\n",
        "  n_row = x.shape[0] - window_size + 1\n",
        "  output = np.lib.stride_tricks.as_strided(x, shape=(n_row, window_size), strides = (x.strides[0], x.strides[0]))\n",
        "  return output[:-1], output[-1]\n",
        "\n",
        "def prepare_y(x, window_size):\n",
        "  # perform single moving average\n",
        "  # output = np.convolve(x, np.ones(window_size), 'valid') / window_size\n",
        "\n",
        "  # use the next day as a label\n",
        "  output = x[window_size:]\n",
        "  return output\n",
        "\n",
        "def prepare_data(normalized_data_close_price, config, plot=False):\n",
        "  data_x, data_x_unseen = prepare_x(normalized_data_close_price, window_size=config[\"data\"][\"window_size\"])\n",
        "  data_y = prepare_y(normalized_data_close_price, window_size=config[\"data\"][\"window_size\"])\n",
        "\n",
        "  # split the dataset\n",
        "  split_index = int(data_y.shape[0]*config[\"data\"][\"train_split_size\"])\n",
        "  data_x_train = data_x[:split_index]\n",
        "  data_x_val = data_x[split_index:]\n",
        "  data_y_train = data_y[:split_index]\n",
        "  data_y_val = data_Y[split_index:]\n",
        "\n",
        "  if plot:\n",
        "    # prepare data for plotting\n",
        "    to_plot_data_y_train = np.zeros(num_data_points)\n",
        "    to_plot_data_y_val = np.zeros(num_data_points)\n",
        "\n",
        "    to_plot_data_y_train[config[\"data\"][\"window_state\"]: split_index+config[\"data\"][\"window_size\"]] = scaler.inverse_transform(data_y_train)\n",
        "    to_plot_data_y_val[split_index+config[\"data\"][\"window_size\"]:] = scaler.inverse_transform(data_y_val)\n",
        "\n",
        "    to_plot_y_train = np.where(to_plot_y_train == 0, None, to_plot_data_y_train)\n",
        "    to_plot_y_val = np.where(to_plot_y_val == 0, None, to_plot_data_y_val)\n",
        "\n",
        "    #plots\n",
        "    fig = figure(figsize=(25,5), dpi=80)\n",
        "    fig.patch.set_color((1.0,1.0,1.0))\n",
        "    plt.plot(data_date, to_plot_data_y_train, label=\"Prices (train)\", color=config[\"plots\"][\"color_train\"])\n",
        "    plt.plot(data_date, to_plot_data_y_val, label=\"Prices (validation)\", color=config[\"plots\"][\"color_val\"])\n",
        "    xticks = [data_date[i] if((i%config[\"plots\"][\"xticks_interval\"]==0 and (num_data_points-i) > config[\"plots\"][\"xticks_interval\"]) or i == num_data_points-1) else None for i in range(num_data_points)]\n",
        "    x = np.arange(0, len(xticks))\n",
        "    plt.xticks(x, xticks, rotation='vertical')\n",
        "    plt.tittle(\"Daily close prices for \" + config[\"alpha_vantage\"][\"symbol\"] + \" - showing training and validation data\")\n",
        "    plt.grid(b=None, witch='major', axis='y', linestyle = '--')\n",
        "    plt.legend()\n",
        "    plt.show()\n",
        "\n",
        "  return split_index, data_x_train, data_y_train, data_x_val, data_y_val, data_x_unseen\n",
        "\n",
        "split_index, data_x_train, data_y_train, data_x_val, data_y_val, data_x_unseen = prepare_data(normalized_data_close_price, config, plot=config[\"plots\"][\"show_plots\"])"
      ],
      "metadata": {
        "id": "0NMCJPkpgXIb"
      },
      "execution_count": null,
      "outputs": []
    },
    {
      "cell_type": "code",
      "source": [
        "class TimeSeriesDataset(Dataset):\n",
        "  def __init__(self, x, y):\n",
        "    x = np.expand_dims(x, 2)  # we need to make x have the correct shape for LSTM\n",
        "    self.x = x.astype(np.float32)\n",
        "    self.y = y.astype(np.float32)\n",
        "\n",
        "  def __len__(self):\n",
        "    return len(self.x)\n",
        "\n",
        "  def __getitem__(self, idx):\n",
        "    return (self.x[idx], self.y[ix])\n",
        "\n",
        "dataset_train = TimeSeriesDataset(data_x_train, data_y_train)\n",
        "dataset_val = TimeSeriesDataset(data_x_val, data_y_val)\n",
        "\n",
        "print(\"Training data shape: \", dataset_train.x.shape, dataset_train.y.shape)\n",
        "print(\"Validation data shape: \", dataset_val.x.shape, dataset_val.y.shape)"
      ],
      "metadata": {
        "id": "sKy2lnHJvPJp"
      },
      "execution_count": null,
      "outputs": []
    },
    {
      "cell_type": "code",
      "source": [
        "class LSTM(nn.Module):\n",
        "  def __init__(self, input_size=1, hidden_state=32, num_layers=2, output_size=1, dropout=0.2):\n",
        "    super().__init__()\n",
        "    self.hidden_state = hidden_state\n",
        "    self.linear = nn.Linear(input_size, hidden_state)\n",
        "    self.relu = nn.ReLU()\n",
        "    self.lstm = nn.LSTM(hidden_state, hidden_size=self.hidde_state, num_layers=num_layers, batch_first=True)\n",
        "    self.dropout = nn.dropout(dropout)\n",
        "    self.linear2 = nn.Linear(num_layers*hidden_state, output_size)\n",
        "\n",
        "    self.init_weights()\n",
        "\n",
        "  def init_weights(self):\n",
        "    for name, param in self.lstm.named_parameters():\n",
        "      if 'bias' in name:\n",
        "        nn.init_constant_(param, 0.0)\n",
        "      elif 'weight_ih' in name:\n",
        "        nn.init.kaiming_normal_(param)\n",
        "      elif 'weight_hh' in name:\n",
        "        nn.init.orthogonal_(param)\n",
        "\n",
        "  def forward(self ,x):"
      ],
      "metadata": {
        "id": "iONQ-76rkWcm"
      },
      "execution_count": null,
      "outputs": []
    }
  ]
}